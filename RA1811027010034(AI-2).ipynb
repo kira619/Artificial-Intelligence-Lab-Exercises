{
 "cells": [
  {
   "cell_type": "code",
   "execution_count": 1,
   "metadata": {},
   "outputs": [
    {
     "name": "stdout",
     "output_type": "stream",
     "text": [
      "Edge - (0, 1) - blue\n",
      "Edge - (0, 4) - green\n",
      "Edge - (0, 5) - yellow\n",
      "Edge - (4, 5) - blue\n",
      "Edge - (1, 4) - yellow\n",
      "Edge - (1, 3) - green\n",
      "Edge - (2, 3) - blue\n",
      "Edge - (2, 4) - red\n"
     ]
    }
   ],
   "source": [
    "color_holder = ['blue','green','yellow','red','pink','white','black','orange']\n",
    "edges = [(0, 1), (0, 4), (0, 5), (4, 5), (1, 4), (1, 3), (2, 3), (2, 4)]\n",
    "N = 6\n",
    "holder = [[] for i in range(N)]\n",
    "for edge in edges:\n",
    "    p = 0\n",
    "    color = color_holder[p]\n",
    "    s = 0\n",
    "    while(s==0):\n",
    "        if color not in holder[edge[0]] and color not in holder[edge[1]]:\n",
    "            holder[edge[0]].append(color)\n",
    "            holder[edge[1]].append(color)\n",
    "            print(\"Edge - {} - {}\".format(edge,color))\n",
    "            s=1\n",
    "        else:\n",
    "            p+=1\n",
    "            color = color_holder[p]"
   ]
  },
  {
   "cell_type": "code",
   "execution_count": null,
   "metadata": {},
   "outputs": [],
   "source": []
  }
 ],
 "metadata": {
  "kernelspec": {
   "display_name": "Python 3",
   "language": "python",
   "name": "python3"
  },
  "language_info": {
   "codemirror_mode": {
    "name": "ipython",
    "version": 3
   },
   "file_extension": ".py",
   "mimetype": "text/x-python",
   "name": "python",
   "nbconvert_exporter": "python",
   "pygments_lexer": "ipython3",
   "version": "3.7.6"
  }
 },
 "nbformat": 4,
 "nbformat_minor": 4
}
