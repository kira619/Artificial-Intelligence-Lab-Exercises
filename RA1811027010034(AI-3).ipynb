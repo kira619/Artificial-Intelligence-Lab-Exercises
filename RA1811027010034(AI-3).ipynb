{
 "cells": [
  {
   "cell_type": "code",
   "execution_count": 2,
   "metadata": {
    "colab": {
     "base_uri": "https://localhost:8080/"
    },
    "id": "mVWRLOBe-Aj9",
    "outputId": "2c467120-537f-4fc2-a3c4-89268c22e3bb"
   },
   "outputs": [
    {
     "name": "stdout",
     "output_type": "stream",
     "text": [
      "Enter the first string: send\n",
      "Enter the second string: more\n",
      "Enter the answer string: money\n",
      "send :  9567\n",
      "more :  1085\n",
      "money :  10652\n"
     ]
    }
   ],
   "source": [
    "import itertools\n",
    "first = input('Enter the first string: ')\n",
    "one = first\n",
    "second = input('Enter the second string: ')\n",
    "two = second\n",
    "ans = input('Enter the answer string: ')\n",
    "answer = ans\n",
    "numbers = range(10)\n",
    "first = [i for i in first]\n",
    "second = [i for i in second]\n",
    "ans = [i for i in ans]\n",
    "letters = []\n",
    "for item in first:\n",
    "    letters.append(item)\n",
    "for item in second:\n",
    "    letters.append(item)\n",
    "for item in ans:\n",
    "    letters.append(item)\n",
    "letters = list(set(letters))\n",
    "for p in itertools.permutations(numbers, len(letters)):\n",
    "    s = dict(zip(letters,p))\n",
    "    if s[first[0]]==0 or s[second[0]]==0:\n",
    "        continue\n",
    "    send = 1000 * s[first[0]] + 100 * s[first[1]] + 10 * s[first[2]] + s[first[3]]\n",
    "    more = 1000 * s[second[0]] + 100 * s[second[1]] + 10 * s[second[2]] + s[second[3]]\n",
    "    money = 10000 * s[ans[0]] + 1000 * s[ans[1]] + 100 * s[ans[2]] + 10 * s[ans[3]] + s[ans[4]]        \n",
    "    if send + more == money:\n",
    "        print(one,': ',send)\n",
    "        print(two,': ',more)\n",
    "        print(answer,': ',money)"
   ]
  },
  {
   "cell_type": "code",
   "execution_count": null,
   "metadata": {
    "id": "ZaHV5WA7--yO"
   },
   "outputs": [],
   "source": []
  }
 ],
 "metadata": {
  "colab": {
   "name": "AI LAB 3.ipynb",
   "provenance": []
  },
  "kernelspec": {
   "display_name": "Python 3",
   "language": "python",
   "name": "python3"
  },
  "language_info": {
   "codemirror_mode": {
    "name": "ipython",
    "version": 3
   },
   "file_extension": ".py",
   "mimetype": "text/x-python",
   "name": "python",
   "nbconvert_exporter": "python",
   "pygments_lexer": "ipython3",
   "version": "3.7.6"
  }
 },
 "nbformat": 4,
 "nbformat_minor": 1
}
