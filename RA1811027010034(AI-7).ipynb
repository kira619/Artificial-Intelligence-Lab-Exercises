{
 "cells": [
  {
   "cell_type": "markdown",
   "metadata": {},
   "source": []
  },
  {
   "cell_type": "markdown",
   "metadata": {},
   "source": [
    "# Reg. No. - RA1811027010034\n"
   ]
  },
  {
   "cell_type": "markdown",
   "metadata": {},
   "source": [
    "# Experiment No. 7 - Implementation of Unification Algorithm"
   ]
  },
  {
   "cell_type": "code",
   "execution_count": 1,
   "metadata": {},
   "outputs": [
    {
     "name": "stdout",
     "output_type": "stream",
     "text": [
      "Enter the Expressions (without spaces):\n",
      "p(foo(X),Y)\n",
      "p(a,b)\n",
      "----------------------------------------------------------------------------\n",
      "E1: foo(X)\n",
      "E2: a\n",
      "Result: FAIL - E1 is a function and E2 is a variable/constant\n",
      "----------------------------------------------------------------------------\n",
      "E1: Y\n",
      "E2: b\n",
      "Result: b/Y\n",
      "----------------------------------------------------------------------------\n"
     ]
    }
   ],
   "source": [
    "'''\n",
    "Attempt to unify the following expressions. Either show their most general unifier or explain why they will not unify.\n",
    "\n",
    "Exercise:\n",
    "1) p(foo(X), Y) and p(a, b)\n",
    "2) p(Y, Y) and p(a, Y)\n",
    "\n",
    "Test cases:\n",
    "1) p(a,Y) and q(Y,Y)         # Initial Predicate Symbols\n",
    "2) p(a,Y) and p(a,X,Y)       # Different number of arguments\n",
    "3) p(foo(X),Y) and p(a,b)  # Exercise 1\n",
    "4) p(Y,Y) and p(a,Y)       # Exercise 2\n",
    "5) p(a,X) and p(Y,b)         # Prints the General Unifiers \n",
    "'''\n",
    "\n",
    "def unify(E1, E2):\n",
    "    constants = [chr(i) for i in range(ord('a'), ord('w') + 1)]\n",
    "    variables = [chr(i) for i in range(ord('A'), ord('Z') + 1)]\n",
    "    variables.extend(['x', 'y', 'z'])\n",
    "    if (E1 in constants and E2 in constants) or (E1 is None and E2 is None):  # base case\n",
    "        if E1 == E2:\n",
    "            return None\n",
    "        else:\n",
    "            return \"FAIL\"\n",
    "\n",
    "    elif E1 in variables:\n",
    "        if E1 in E2:\n",
    "            return \"FAIL - E1 occurs in E2\"\n",
    "        else: \n",
    "            return (E2 + \"/\" + E1)\n",
    "          \n",
    "    elif E2 in variables:\n",
    "        if E2 in E1:\n",
    "            return \"FAIL - E2 occurs in E1\"\n",
    "        else: \n",
    "            return (E1 + \"/\" + E2)\n",
    "    else:\n",
    "        if ('(' in E1 and '(' not in E2):\n",
    "            return \"FAIL - E1 is a function and E2 is a variable/constant\"\n",
    "        elif ('(' not in E1 and '(' in E2):\n",
    "            return \"FAIL - E1 is a variable/constant and E2 is a function\"\n",
    "\n",
    "print(\"Enter the Expressions (without spaces):\")\n",
    "s1 = input()\n",
    "s2 = input()\n",
    "E1 = s1[2:len(s1)-1].split(',')\n",
    "E2 = s2[2:len(s2)-1].split(',')\n",
    "if s1[0] != s2[0]:\n",
    "    print(\"FAIL - Initial Predicate Symbols in E1 and E2 are not identical\")\n",
    "elif len(E1) != len(E2):\n",
    "    print(\"FAIL - E1 and E2 have different number of arguments\")\n",
    "else:\n",
    "    n = len(E1)\n",
    "    s = []   # General Unifiers\n",
    "    print(\"----------------------------------------------------------------------------\")\n",
    "    for i in range(n):\n",
    "        print(\"E1:\", E1[i])\n",
    "        print(\"E2:\", E2[i])\n",
    "        print(\"Result:\", unify(E1[i],E2[i]))\n",
    "        print(\"----------------------------------------------------------------------------\")\n",
    "        if \"FAIL\" not in unify(E1[i],E2[i]):\n",
    "            s.append(unify(E1[i],E2[i]))\n",
    "        \n",
    "    if len(s) == n:\n",
    "        print(\"General Unifiers: { \", end = \"\")\n",
    "        for i in range(len(s)):\n",
    "            if i != len(s)-1:\n",
    "                print(s[i] + \", \", end = \"\")\n",
    "            else:\n",
    "                print(s[i] + \" }\", end = \"\")"
   ]
  }
 ],
 "metadata": {
  "kernelspec": {
   "display_name": "Python 3",
   "language": "python",
   "name": "python3"
  },
  "language_info": {
   "codemirror_mode": {
    "name": "ipython",
    "version": 3
   },
   "file_extension": ".py",
   "mimetype": "text/x-python",
   "name": "python",
   "nbconvert_exporter": "python",
   "pygments_lexer": "ipython3",
   "version": "3.7.6"
  }
 },
 "nbformat": 4,
 "nbformat_minor": 5
}
