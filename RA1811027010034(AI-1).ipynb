{
 "cells": [
  {
   "cell_type": "code",
   "execution_count": 2,
   "metadata": {},
   "outputs": [
    {
     "name": "stdout",
     "output_type": "stream",
     "text": [
      "Enter the total number of bananas: 3000\n",
      "Enter the distance: 1000\n",
      "Enter the load capacity of camel: 1000\n",
      "Maximum number of bananas that can be transported to destination are: 533\n"
     ]
    }
   ],
   "source": [
    "#Camel and bananas problem(eats a banana every time it travels)\n",
    "n = int(input(\"Enter the total number of bananas: \"))\n",
    "d = int(input(\"Enter the distance: \"))\n",
    "c = int(input(\"Enter the load capacity of camel: \"))\n",
    "l = 0\n",
    "s = n\n",
    "for i in range(d):\n",
    "    while(s>0):\n",
    "        s = s-c\n",
    "        if s==1:\n",
    "            l-=1\n",
    "        l+=2#For travelling back and forth\n",
    "    l-=1\n",
    "    s = n-l\n",
    "    if s==0:\n",
    "        break\n",
    "print(\"Maximum number of bananas that can be transported to destination are: {}\".format(s))"
   ]
  },
  {
   "cell_type": "code",
   "execution_count": null,
   "metadata": {},
   "outputs": [],
   "source": []
  }
 ],
 "metadata": {
  "kernelspec": {
   "display_name": "Python 3",
   "language": "python",
   "name": "python3"
  },
  "language_info": {
   "codemirror_mode": {
    "name": "ipython",
    "version": 3
   },
   "file_extension": ".py",
   "mimetype": "text/x-python",
   "name": "python",
   "nbconvert_exporter": "python",
   "pygments_lexer": "ipython3",
   "version": "3.7.6"
  }
 },
 "nbformat": 4,
 "nbformat_minor": 4
}
